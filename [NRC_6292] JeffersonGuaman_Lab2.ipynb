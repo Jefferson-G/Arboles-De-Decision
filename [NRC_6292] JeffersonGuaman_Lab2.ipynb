{
 "cells": [
  {
   "cell_type": "markdown",
   "id": "2cc4bfc6",
   "metadata": {},
   "source": [
    "# Decision Tree"
   ]
  },
  {
   "cell_type": "code",
   "execution_count": 20,
   "id": "7117278e",
   "metadata": {},
   "outputs": [],
   "source": [
    "'''Importar los módulos necesarios'''\n",
    "\n",
    "import pandas\n",
    "from sklearn import tree\n",
    "import pydotplus\n",
    "from sklearn.tree import DecisionTreeClassifier\n",
    "%matplotlib notebook\n",
    "import matplotlib.pyplot as plt\n",
    "import matplotlib.image as pltimg"
   ]
  },
  {
   "cell_type": "code",
   "execution_count": 21,
   "id": "4efeb376",
   "metadata": {},
   "outputs": [
    {
     "name": "stdout",
     "output_type": "stream",
     "text": [
      "      Unnamed: 0  speed  gender  height\n",
      "0              1     85  female      69\n",
      "1              2     40    male      71\n",
      "2              3     87  female      64\n",
      "3              4    110  female      60\n",
      "4              5    110    male      70\n",
      "...          ...    ...     ...     ...\n",
      "1320        1321     97  female      63\n",
      "1321        1322    100  female      66\n",
      "1322        1323     90  female      63\n",
      "1323        1324     90    male      69\n",
      "1324        1325     60  female      62\n",
      "\n",
      "[1325 rows x 4 columns]\n"
     ]
    }
   ],
   "source": [
    "'''Cargar y leer los datos del dataframe'''\n",
    "\n",
    "df = pandas.read_csv('speed_gender_height.csv')\n",
    "print(df)"
   ]
  },
  {
   "cell_type": "code",
   "execution_count": 22,
   "id": "28df146e",
   "metadata": {},
   "outputs": [
    {
     "name": "stdout",
     "output_type": "stream",
     "text": [
      "      Unnamed: 0  speed  gender  height\n",
      "0              1     85       0      69\n",
      "1              2     40       1      71\n",
      "2              3     87       0      64\n",
      "3              4    110       0      60\n",
      "4              5    110       1      70\n",
      "...          ...    ...     ...     ...\n",
      "1320        1321     97       0      63\n",
      "1321        1322    100       0      66\n",
      "1322        1323     90       0      63\n",
      "1323        1324     90       1      69\n",
      "1324        1325     60       0      62\n",
      "\n",
      "[1325 rows x 4 columns]\n"
     ]
    }
   ],
   "source": [
    "'''Cambiar valores alfanuméricos en numéricos'''\n",
    "\n",
    "d1 = {'male': 1 , 'female': 0}\n",
    "df['gender'] = df['gender'].map(d1)\n",
    "\n",
    "print(df)"
   ]
  },
  {
   "cell_type": "code",
   "execution_count": 23,
   "id": "fc8a0a67",
   "metadata": {},
   "outputs": [],
   "source": [
    "'''Elegir características, es decir, columnas de las que intentamos predecir'''\n",
    "\n",
    "features = ['speed', 'height']\n",
    "X = df[features]"
   ]
  },
  {
   "cell_type": "code",
   "execution_count": 24,
   "id": "1a29227f",
   "metadata": {},
   "outputs": [],
   "source": [
    "'''Elegir el objetivo, es decir, la columna con los valores que intentamos predecir'''\n",
    "\n",
    "y = df['gender']"
   ]
  },
  {
   "cell_type": "code",
   "execution_count": 25,
   "id": "9173ca33",
   "metadata": {},
   "outputs": [
    {
     "name": "stdout",
     "output_type": "stream",
     "text": [
      "      speed  height\n",
      "0        85      69\n",
      "1        40      71\n",
      "2        87      64\n",
      "3       110      60\n",
      "4       110      70\n",
      "...     ...     ...\n",
      "1320     97      63\n",
      "1321    100      66\n",
      "1322     90      63\n",
      "1323     90      69\n",
      "1324     60      62\n",
      "\n",
      "[1325 rows x 2 columns]\n",
      "\n",
      "0       0\n",
      "1       1\n",
      "2       0\n",
      "3       0\n",
      "4       1\n",
      "       ..\n",
      "1320    0\n",
      "1321    0\n",
      "1322    0\n",
      "1323    1\n",
      "1324    0\n",
      "Name: gender, Length: 1325, dtype: int64\n"
     ]
    }
   ],
   "source": [
    "'''Imprima ‘X’ y ‘y’ para verificar su ecuación.'''\n",
    "\n",
    "print(X, y, sep='\\n\\n')"
   ]
  },
  {
   "cell_type": "code",
   "execution_count": null,
   "id": "939a9d3c",
   "metadata": {},
   "outputs": [],
   "source": []
  }
 ],
 "metadata": {
  "kernelspec": {
   "display_name": "Python 3 (ipykernel)",
   "language": "python",
   "name": "python3"
  },
  "language_info": {
   "codemirror_mode": {
    "name": "ipython",
    "version": 3
   },
   "file_extension": ".py",
   "mimetype": "text/x-python",
   "name": "python",
   "nbconvert_exporter": "python",
   "pygments_lexer": "ipython3",
   "version": "3.9.12"
  }
 },
 "nbformat": 4,
 "nbformat_minor": 5
}
