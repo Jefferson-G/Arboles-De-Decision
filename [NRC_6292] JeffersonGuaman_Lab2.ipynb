{
 "cells": [
  {
   "cell_type": "markdown",
   "id": "2cc4bfc6",
   "metadata": {},
   "source": [
    "# Decision Tree"
   ]
  },
  {
   "cell_type": "code",
   "execution_count": 3,
   "id": "7117278e",
   "metadata": {},
   "outputs": [],
   "source": [
    "'''Importar los módulos necesarios'''\n",
    "\n",
    "import pandas\n",
    "from sklearn import tree\n",
    "import pydotplus\n",
    "from sklearn.tree import DecisionTreeClassifier\n",
    "%matplotlib notebook\n",
    "import matplotlib.pyplot as plt\n",
    "import matplotlib.image as pltimg"
   ]
  },
  {
   "cell_type": "code",
   "execution_count": 4,
   "id": "4efeb376",
   "metadata": {},
   "outputs": [
    {
     "name": "stdout",
     "output_type": "stream",
     "text": [
      "      Unnamed: 0  speed  gender  height\n",
      "0              1     85  female      69\n",
      "1              2     40    male      71\n",
      "2              3     87  female      64\n",
      "3              4    110  female      60\n",
      "4              5    110    male      70\n",
      "...          ...    ...     ...     ...\n",
      "1320        1321     97  female      63\n",
      "1321        1322    100  female      66\n",
      "1322        1323     90  female      63\n",
      "1323        1324     90    male      69\n",
      "1324        1325     60  female      62\n",
      "\n",
      "[1325 rows x 4 columns]\n"
     ]
    }
   ],
   "source": [
    "'''Cargar y leer los datos del dataframe'''\n",
    "\n",
    "df = pandas.read_csv('speed_gender_height.csv')\n",
    "print(df)"
   ]
  },
  {
   "cell_type": "code",
   "execution_count": null,
   "id": "9337b59f",
   "metadata": {},
   "outputs": [],
   "source": []
  }
 ],
 "metadata": {
  "kernelspec": {
   "display_name": "Python 3 (ipykernel)",
   "language": "python",
   "name": "python3"
  },
  "language_info": {
   "codemirror_mode": {
    "name": "ipython",
    "version": 3
   },
   "file_extension": ".py",
   "mimetype": "text/x-python",
   "name": "python",
   "nbconvert_exporter": "python",
   "pygments_lexer": "ipython3",
   "version": "3.9.12"
  }
 },
 "nbformat": 4,
 "nbformat_minor": 5
}
